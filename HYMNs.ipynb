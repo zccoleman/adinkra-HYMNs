{
 "cells": [
  {
   "cell_type": "code",
   "execution_count": 68,
   "metadata": {},
   "outputs": [
    {
     "name": "stdout",
     "output_type": "stream",
     "text": [
      "[[ 1 -2]\n",
      " [ 2  1]]\n",
      "2\n"
     ]
    }
   ],
   "source": [
    "import numpy as np\n",
    "\n",
    "matr = np.genfromtxt('2x2adk.csv', dtype='int', delimiter=',')\n",
    "\n",
    "print(matr)\n",
    "print(np.max((matr)))"
   ]
  },
  {
   "cell_type": "code",
   "execution_count": 144,
   "metadata": {},
   "outputs": [],
   "source": [
    "import numpy as np\n",
    "\n",
    "class Adinkra:\n",
    "    #ADJMatrix=[]\n",
    "    \n",
    "    def __init__(obj,matr):\n",
    "        obj.ADJMatrix = matr\n",
    "        obj.open=len(matr)\n",
    "        obj.closed=len(matr[0])\n",
    "        obj.nodes=obj.open+obj.closed\n",
    "        obj.colors=abs(np.max(matr)) #wont work if all of the last color is negative (all of the connections of the highest-indexed color are dashed). Does this ever happen?\n",
    "        obj.LMatrices=np.zeros((obj.colors,obj.open,obj.closed))\n",
    "        for i in range(0,obj.colors):\n",
    "            obj.LMatrices[i]=Adinkra.LColBlock(obj,i+1)\n",
    "        obj.hand=obj.colors%2\n",
    "        \n",
    "    def LColBlock(a,color):\n",
    "        h=a.open;\n",
    "        w=a.closed;\n",
    "        lcol=np.zeros((h,w));\n",
    "        for i in range(0,h):\n",
    "            for j in range(0,w):\n",
    "                if (a.ADJMatrix[i,j]==color):\n",
    "                    lcol[i,j]=1\n",
    "                elif (a.ADJMatrix[i,j]==color*-1):\n",
    "                    lcol[i,j]=-1\n",
    "        return lcol\n",
    "    \n",
    "    def liftMatrix(a,m,w):\n",
    "        d=a.closed\n",
    "        M=np.identity(d)\n",
    "        for i in w:\n",
    "            bin=i\n",
    "            for j in range(d-1,-1,-1):\n",
    "                if (bin>=(2**j)):\n",
    "                    M[j,j]*=m\n",
    "                    bin-=2**j\n",
    "        return M\n",
    "    \n",
    "    def LTilde(a,color,mb,mf,wb,wf):\n",
    "        L = a.LMatrices[color-1]\n",
    "        L = np.matmul(np.matmul(a.liftMatrix(mb,wb),L),a.liftMatrix(1/mf,wf))\n",
    "        return L\n",
    "    \n",
    "    def RTilde(a,color,mub,muf,wb,wf):\n",
    "        R = np.transpose(a.LMatrices[color])\n",
    "        R = np.matmul(np.matmul(a.liftMatrix(muf,wf),R),a.liftMatrix(1/mub,wb))\n",
    "        return R\n",
    "    \n",
    "    def BanchL(a,mb,mub,mf,muf,wb,wf):\n",
    "        I=a.colors\n",
    "        BL = a.LTilde(I,mb,mf,wb,wf)\n",
    "        for i in range(I-1,0,-1):\n",
    "            if (i%2==1):\n",
    "                BL = np.matmul(BL,a.RTilde(i,mub,muf,wb,wf))\n",
    "            else:\n",
    "                BL = np.matmul(BL,a.LTilde(i,mb,mf,wb,wf))\n",
    "        return BL\n",
    "    \n",
    "    def BanchR(a,mb,mub,mf,muf,wb,wf):\n",
    "        I=a.colors\n",
    "        BR = a.RTilde(I,mub,muf,wb,wb)\n",
    "        for i in range(I-1,0,-1):\n",
    "            if (i%2==1):\n",
    "                BR = np.matmul(BR,a.LTilde(i,mb,mf,wb,wf))\n",
    "            else:\n",
    "                BR = np.matmul(BR,a.RTilde(i,mub,muf,wb,wf))\n",
    "        return BR\n",
    "    \n",
    "    "
   ]
  },
  {
   "cell_type": "code",
   "execution_count": 146,
   "metadata": {},
   "outputs": [
    {
     "name": "stdout",
     "output_type": "stream",
     "text": [
      "[[2. 0.]\n",
      " [0. 1.]]\n"
     ]
    }
   ],
   "source": [
    "from math import *\n",
    "\n",
    "a=Adinkra(matr)\n",
    "M=a.liftMatrix(5,[2,2])\n",
    "print(a.BanchL(10,5,3,9,[1],[0]))"
   ]
  },
  {
   "cell_type": "code",
   "execution_count": 141,
   "metadata": {},
   "outputs": [
    {
     "ename": "SyntaxError",
     "evalue": "invalid syntax (<ipython-input-141-4cc51fb60e09>, line 2)",
     "output_type": "error",
     "traceback": [
      "\u001b[1;36m  File \u001b[1;32m\"<ipython-input-141-4cc51fb60e09>\"\u001b[1;36m, line \u001b[1;32m2\u001b[0m\n\u001b[1;33m    print(a[[0:2],[0:2]])\u001b[0m\n\u001b[1;37m              ^\u001b[0m\n\u001b[1;31mSyntaxError\u001b[0m\u001b[1;31m:\u001b[0m invalid syntax\n"
     ]
    }
   ],
   "source": [
    "a=np.zeros(3)\n",
    "print(a[[0:2],[0:2]])"
   ]
  },
  {
   "cell_type": "code",
   "execution_count": 91,
   "metadata": {},
   "outputs": [
    {
     "name": "stdout",
     "output_type": "stream",
     "text": [
      "1\n"
     ]
    }
   ],
   "source": [
    "print(2^3)"
   ]
  },
  {
   "cell_type": "code",
   "execution_count": null,
   "metadata": {},
   "outputs": [],
   "source": []
  }
 ],
 "metadata": {
  "kernelspec": {
   "display_name": "Python 3",
   "language": "python",
   "name": "python3"
  },
  "language_info": {
   "codemirror_mode": {
    "name": "ipython",
    "version": 3
   },
   "file_extension": ".py",
   "mimetype": "text/x-python",
   "name": "python",
   "nbconvert_exporter": "python",
   "pygments_lexer": "ipython3",
   "version": "3.7.1"
  }
 },
 "nbformat": 4,
 "nbformat_minor": 2
}
