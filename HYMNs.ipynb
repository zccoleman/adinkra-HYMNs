{
 "cells": [
  {
   "cell_type": "code",
   "execution_count": 210,
   "metadata": {},
   "outputs": [
    {
     "name": "stdout",
     "output_type": "stream",
     "text": [
      "({rhoB**2*rhoF: 4, -rhoB**2*rhoF: 4}, {rhoB**2*rhoF: 4, -rhoB**2*rhoF: 4})\n"
     ]
    }
   ],
   "source": [
    "matr = np.genfromtxt('4x8adk-fig8.csv', dtype='int', delimiter=',')\n",
    "a=Adinkra(matr)\n",
    "wb=[254,128]\n",
    "wf=[240]\n",
    "print(a.hymns(wb,wf))"
   ]
  },
  {
   "cell_type": "code",
   "execution_count": 203,
   "metadata": {},
   "outputs": [],
   "source": [
    "import numpy as np\n",
    "import sympy as sp\n",
    "\n",
    "class Adinkra:\n",
    "\n",
    "    def __init__(obj,matr):\n",
    "        obj.ADJMatrix = matr\n",
    "        obj.open=len(matr)\n",
    "        obj.closed=len(matr[0])\n",
    "        obj.nodes=obj.open+obj.closed\n",
    "        obj.colors=abs(np.max(matr)) #wont work if all of the last color is negative (all of the connections of the highest-indexed color are dashed). Does this ever happen?\n",
    "        obj.LMatrices=np.zeros((obj.colors,obj.open,obj.closed))\n",
    "        for i in range(0,obj.colors):\n",
    "            obj.LMatrices[i]=Adinkra.LColBlock(obj,i+1)\n",
    "        obj.hand=obj.colors%2\n",
    "        \n",
    "    def LColBlock(a,color):\n",
    "        h=a.open;\n",
    "        w=a.closed;\n",
    "        lcol=np.zeros((h,w));\n",
    "        for i in range(0,h):\n",
    "            for j in range(0,w):\n",
    "                if (a.ADJMatrix[i,j]==color):\n",
    "                    lcol[i,j]=1\n",
    "                elif (a.ADJMatrix[i,j]==color*-1):\n",
    "                    lcol[i,j]=-1\n",
    "        return lcol\n",
    "    \n",
    "    def liftMatrix(a,m,w):\n",
    "        d=a.closed\n",
    "        M=sp.Matrix(np.identity(d,dtype=int))\n",
    "        for i in w:\n",
    "            bin=i\n",
    "            for j in range(d-1,-1,-1):\n",
    "                if (bin>=(2**j)):\n",
    "                    M[j,j]*=m\n",
    "                    bin-=2**j\n",
    "        return M\n",
    "    \n",
    "    def LTilde(a,color,mb,mf,wb,wf):\n",
    "        L = a.LMatrices[color-1]\n",
    "        L = (a.liftMatrix(mb,wb))*L*(a.liftMatrix(1/mf,wf))\n",
    "        return L\n",
    "    \n",
    "    def RTilde(a,color,mub,muf,wb,wf):\n",
    "        R = np.transpose(a.LMatrices[color-1])\n",
    "        R = (a.liftMatrix(muf,wf))*R*(a.liftMatrix(1/mub,wb))\n",
    "        return R\n",
    "    \n",
    "    def BanchL(a,mb,mub,mf,muf,wb,wf):\n",
    "        I=a.colors\n",
    "        BL = a.LTilde(I,mb,mf,wb,wf)\n",
    "        for i in range(I-1,0,-1):\n",
    "            if (i%2==1):\n",
    "                BL = BL*(a.RTilde(i,mub,muf,wb,wf))\n",
    "            else:\n",
    "                BL = BL*(a.LTilde(i,mb,mf,wb,wf))\n",
    "        return BL\n",
    "    \n",
    "    def BanchR(a,mb,mub,mf,muf,wb,wf):\n",
    "        I=a.colors\n",
    "        BR = a.RTilde(I,mub,muf,wb,wf)\n",
    "        for i in range(I-1,0,-1):\n",
    "            if (i%2==1):\n",
    "                BR = BR*(a.LTilde(i,mb,mf,wb,wf))\n",
    "            else:\n",
    "                BR = BR*(a.RTilde(i,mub,muf,wb,wf))\n",
    "        return BR\n",
    "    \n",
    "    def hymns(a,wb,wf):\n",
    "        mb=sp.Symbol('mb')\n",
    "        rhoB=sp.Symbol('rhoB')\n",
    "        mub=mb/rhoB\n",
    "        muf=sp.Symbol('muf')\n",
    "        rhoF=sp.Symbol('rhoF')\n",
    "        mf=muf/rhoF\n",
    "        BL = a.BanchL(mb,mub,mf,muf,wb,wf)\n",
    "        BR = a.BanchR(mb,mub,mf,muf,wb,wf)\n",
    "        if (a.hand==0):\n",
    "            return BL.eigenvals(), BR.eigenvals()\n",
    "        else:\n",
    "            return 0\n",
    "    "
   ]
  }
 ],
 "metadata": {
  "kernelspec": {
   "display_name": "Python 3",
   "language": "python",
   "name": "python3"
  },
  "language_info": {
   "codemirror_mode": {
    "name": "ipython",
    "version": 3
   },
   "file_extension": ".py",
   "mimetype": "text/x-python",
   "name": "python",
   "nbconvert_exporter": "python",
   "pygments_lexer": "ipython3",
   "version": "3.7.1"
  }
 },
 "nbformat": 4,
 "nbformat_minor": 2
}
